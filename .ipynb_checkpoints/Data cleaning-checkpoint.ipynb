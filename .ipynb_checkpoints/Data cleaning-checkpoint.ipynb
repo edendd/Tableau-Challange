{
 "cells": [
  {
   "cell_type": "code",
   "execution_count": 1,
   "metadata": {},
   "outputs": [],
   "source": [
    "# Dependencies\n",
    "import os\n",
    "import pandas as pd"
   ]
  },
  {
   "cell_type": "code",
   "execution_count": 2,
   "metadata": {},
   "outputs": [],
   "source": [
    "# Store filepath in a variable\n",
    "file_one = os.path.join('Data', '201709-citibike-tripdata.csv')\n",
    "file_two = os.path.join('Data', '201710-citibike-tripdata.csv')\n",
    "file_three = os.path.join('Data', '201711-citibike-tripdata.csv')\n",
    "file_four = os.path.join('Data', '201712-citibike-tripdata.csv')\n",
    "file_five = os.path.join('Data', '201801-citibike-tripdata.csv')\n",
    "file_six = os.path.join('Data', '201802-citibike-tripdata.csv')\n",
    "file_seven = os.path.join('Data', '201803-citibike-tripdata.csv')\n",
    "file_eight = os.path.join('Data', '201804-citibike-tripdata.csv')\n",
    "file_nine = os.path.join('Data', '201805-citibike-tripdata.csv')\n",
    "file_ten = os.path.join('Data', '201806-citibike-tripdata.csv')\n",
    "file_eleven = os.path.join('Data', '201807-citibike-tripdata.csv')\n",
    "file_twelve = os.path.join('Data', '201808-citibike-tripdata.csv')\n",
    "file_thirteen = os.path.join('Data', '201809-citibike-tripdata.csv')"
   ]
  },
  {
   "cell_type": "code",
   "execution_count": null,
   "metadata": {},
   "outputs": [],
   "source": []
  },
  {
   "cell_type": "code",
   "execution_count": null,
   "metadata": {},
   "outputs": [],
   "source": []
  },
  {
   "cell_type": "code",
   "execution_count": null,
   "metadata": {},
   "outputs": [],
   "source": []
  },
  {
   "cell_type": "code",
   "execution_count": null,
   "metadata": {},
   "outputs": [],
   "source": []
  },
  {
   "cell_type": "code",
   "execution_count": null,
   "metadata": {},
   "outputs": [],
   "source": []
  },
  {
   "cell_type": "code",
   "execution_count": null,
   "metadata": {},
   "outputs": [],
   "source": []
  },
  {
   "cell_type": "code",
   "execution_count": null,
   "metadata": {},
   "outputs": [],
   "source": []
  }
 ],
 "metadata": {
  "kernelspec": {
   "display_name": "Python 3",
   "language": "python",
   "name": "python3"
  },
  "language_info": {
   "codemirror_mode": {
    "name": "ipython",
    "version": 3
   },
   "file_extension": ".py",
   "mimetype": "text/x-python",
   "name": "python",
   "nbconvert_exporter": "python",
   "pygments_lexer": "ipython3",
   "version": "3.7.4"
  }
 },
 "nbformat": 4,
 "nbformat_minor": 2
}
